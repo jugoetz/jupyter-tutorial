{
 "cells": [
  {
   "cell_type": "markdown",
   "metadata": {},
   "source": [
    "# Jupyter notebook tutorial\n",
    "Welcome!\n",
    "This tutorial will guide you through using Jupyter notebooks.\n",
    "We'll also cover when it is a good idea to use Jupyter notebooks"
   ]
  },
  {
   "cell_type": "markdown",
   "metadata": {},
   "source": [
    "### Code and Markdown\n",
    "Jupyter has different types of cells, importantly code and text cells.\n",
    "\n",
    "So far, you are only seeing text cells. \n",
    "Their formatting can be controlled by markdown, a very basic style syntax.\n",
    "\n",
    "Now, let's try with some code instead!"
   ]
  },
  {
   "cell_type": "code",
   "execution_count": null,
   "metadata": {},
   "outputs": [],
   "source": [
    "import string\n",
    "letters = string.ascii_uppercase\n",
    "letters[0:5]"
   ]
  },
  {
   "cell_type": "markdown",
   "metadata": {},
   "source": [
    "(Execute the code cell by clicking into the cell, then clicking _Run_ in the top menu. You should see an output below the cell.)"
   ]
  },
  {
   "cell_type": "markdown",
   "metadata": {},
   "source": [
    "### IPython\n",
    "Using Jupyter is straightforward. It is like using plain Python but divided into cells that can be executed one at a time (or in a different order, or repeatedly). \n",
    "\n",
    "You may, however, have already noticed a small difference: In plain Python, the cell above would not have given an output. We would need to enclose the \"letters[0:5]\" bit in a print() statement.\n",
    "\n",
    "Jupyter, by contrast, runs interactive Python, or IPython, which is a lot more responsive. Aside from the convinient printing, it can also show figures right in the Jupyter notebook"
   ]
  },
  {
   "cell_type": "code",
   "execution_count": null,
   "metadata": {},
   "outputs": [],
   "source": [
    "import numpy as np\n",
    "import matplotlib.pyplot as plt\n",
    "\n",
    "# data\n",
    "x = np.arange(0.0, 5.0, 0.01)\n",
    "y = (np.cos(2 * np.pi * x) + x) * np.exp(x / 3)\n",
    "\n",
    "# plot\n",
    "fig, ax = plt.subplots()\n",
    "ax.plot(x, y)\n",
    "\n",
    "# some formatting\n",
    "ax.set(xlabel='PhD duration / y', ylabel='Desperation / a.u.',\n",
    "       title='Look how it grows!')\n",
    "ax.grid()\n",
    "\n",
    "# show the result\n",
    "plt.show()"
   ]
  },
  {
   "cell_type": "markdown",
   "metadata": {},
   "source": [
    "There is more that IPython can do, e.g. magic commands (statements starting with %), but you only need the very basics and already get the most out of it."
   ]
  },
  {
   "cell_type": "markdown",
   "metadata": {},
   "source": [
    "### Advantages of Jupyter/IPython\n",
    "- Text and code, conveniently placed in one file\n",
    "- Interactive output\n",
    "- Re-execute or skip cells. Basically, use any order that doesn't raise NameError (when a variable is used before assignment)\n",
    "- If an exception is raised, you can change the cell and re-execute it. No need to execute the entire script again\n",
    "\n",
    "Finally, you can keep making changes until you like the result. Let's look back at our plot above. Maybe you changed your mind and figured a red line would fit your color scheme better:"
   ]
  },
  {
   "cell_type": "code",
   "execution_count": null,
   "metadata": {},
   "outputs": [],
   "source": [
    "ax.get_lines()[0].set_color('red')\n",
    "\n",
    "fig"
   ]
  },
  {
   "cell_type": "markdown",
   "metadata": {},
   "source": [
    "Or, you collect more data and want to add that in:"
   ]
  },
  {
   "cell_type": "code",
   "execution_count": null,
   "metadata": {},
   "outputs": [],
   "source": [
    "Y = y + 1 / (x - 5.02)\n",
    "ax.plot(x, Y)\n",
    "ax.get_lines()[1].set_color('green')\n",
    "fig"
   ]
  },
  {
   "cell_type": "markdown",
   "metadata": {},
   "source": [
    "### When to use Jupyter\n",
    "When to use Jupyter can easily derived from the advantages listed above.\n",
    "\n",
    "Jupyter is very popular for teaching. The combination of code with explanations and the interactivity make it accessible to learners. Consider using it when you want to guide others through short pieces of code\n",
    "\n",
    "The other important use case is prototyping. You have seen in the plot example how we can iteratively adjust our code until it does the right thing. This is handy for plotting (and in fact the matplotlib documentation builds strongly on Jupyter notebooks) and even more useful for data-related tasks in general.\n",
    "Processing a dataset is often an iterative process and especially when loading the data takes considerable time, it is convenient to keep everything in memory while you trial-and-error your way through it. Likewise, Jupyter notebooks are popular for prototyping machine learning workflows.\n",
    "\n",
    "In general, Jupyter is useful whenever you develop a new script and it is time-consuming or annoying to re-run the script everytime you make a mistake or want to change something.\n",
    "\n",
    "### When to avoid Jupyter\n",
    "Finally, Jupyter notebooks are obviously not suitable for production in most cases. But once you have your prototype, you can just copy the code to Python and edit the few IPython-specific bits. There are even tools like _nbconvert_ that take this hassle from you.\n"
   ]
  },
  {
   "cell_type": "markdown",
   "metadata": {},
   "source": [
    "This notebook is (C) Julian Götz, 2021. Licensed under GPL v3.0"
   ]
  }
 ],
 "metadata": {
  "kernelspec": {
   "display_name": "Python 3",
   "language": "python",
   "name": "python3"
  },
  "language_info": {
   "codemirror_mode": {
    "name": "ipython",
    "version": 3
   },
   "file_extension": ".py",
   "mimetype": "text/x-python",
   "name": "python",
   "nbconvert_exporter": "python",
   "pygments_lexer": "ipython3",
   "version": "3.8.3"
  }
 },
 "nbformat": 4,
 "nbformat_minor": 4
}
